{
 "cells": [
  {
   "cell_type": "code",
   "execution_count": 23,
   "metadata": {
    "collapsed": true
   },
   "outputs": [],
   "source": [
    "import os\n",
    "\n",
    "import pandas as pd\n",
    "\n",
    "base_path = \"../data/species_by_county/\"\n",
    "files = [base_path + f for f in os.listdir(base_path)]"
   ]
  },
  {
   "cell_type": "code",
   "execution_count": 24,
   "outputs": [],
   "source": [
    "to_drop = [\"gbifID\", \"datasetKey\", \"occurrenceID\", \"kingdom\", \"phylum\", \"class\", \"order\", \"family\", \"species\",\n",
    "           \"taxonRank\", \"infraspecificEpithet\", \"verbatimScientificName\", \"verbatimScientificNameAuthorship\",\n",
    "           \"countryCode\", \"locality\", \"stateProvince\", \"occurrenceStatus\", \"publishingOrgKey\", \"decimalLatitude\",\n",
    "           \"decimalLongitude\", \"coordinateUncertaintyInMeters\", \"coordinatePrecision\", \"elevation\", \"elevationAccuracy\",\n",
    "           \"depth\", \"depthAccuracy\", \"eventDate\", \"day\", \"month\", \"taxonKey\", \"speciesKey\", \"basisOfRecord\",\n",
    "           \"institutionCode\", \"collectionCode\", \"catalogNumber\", \"recordNumber\", \"identifiedBy\", \"dateIdentified\",\n",
    "           \"license\", \"rightsHolder\", \"recordedBy\", \"typeStatus\", \"establishmentMeans\", \"lastInterpreted\", \"mediaType\",\n",
    "           \"issue\"]"
   ],
   "metadata": {
    "collapsed": false
   }
  },
  {
   "cell_type": "code",
   "execution_count": 26,
   "outputs": [
    {
     "data": {
      "text/plain": "      genus  individualCount\nyear                        \n2013  34900         113772.0\n2014  32117          98092.0\n2015  36441          92409.0\n2016  45814         139619.0\n2017  55484         151648.0\n2018  72385         214583.0\n2019  81098         237868.0\n2020  55667         180947.0",
      "text/html": "<div>\n<style scoped>\n    .dataframe tbody tr th:only-of-type {\n        vertical-align: middle;\n    }\n\n    .dataframe tbody tr th {\n        vertical-align: top;\n    }\n\n    .dataframe thead th {\n        text-align: right;\n    }\n</style>\n<table border=\"1\" class=\"dataframe\">\n  <thead>\n    <tr style=\"text-align: right;\">\n      <th></th>\n      <th>genus</th>\n      <th>individualCount</th>\n    </tr>\n    <tr>\n      <th>year</th>\n      <th></th>\n      <th></th>\n    </tr>\n  </thead>\n  <tbody>\n    <tr>\n      <th>2013</th>\n      <td>34900</td>\n      <td>113772.0</td>\n    </tr>\n    <tr>\n      <th>2014</th>\n      <td>32117</td>\n      <td>98092.0</td>\n    </tr>\n    <tr>\n      <th>2015</th>\n      <td>36441</td>\n      <td>92409.0</td>\n    </tr>\n    <tr>\n      <th>2016</th>\n      <td>45814</td>\n      <td>139619.0</td>\n    </tr>\n    <tr>\n      <th>2017</th>\n      <td>55484</td>\n      <td>151648.0</td>\n    </tr>\n    <tr>\n      <th>2018</th>\n      <td>72385</td>\n      <td>214583.0</td>\n    </tr>\n    <tr>\n      <th>2019</th>\n      <td>81098</td>\n      <td>237868.0</td>\n    </tr>\n    <tr>\n      <th>2020</th>\n      <td>55667</td>\n      <td>180947.0</td>\n    </tr>\n  </tbody>\n</table>\n</div>"
     },
     "execution_count": 26,
     "metadata": {},
     "output_type": "execute_result"
    }
   ],
   "source": [
    "for f in files:\n",
    "    df = pd.read_csv(files[0], sep=\"\\t\", low_memory=False)\n",
    "    df = df.drop(columns=to_drop)\n",
    "    # Group the data by year and aggregate the genus and individualCount columns\n",
    "    genus_counts = df.groupby('year')['genus'].count()\n",
    "    indiv_counts = df.groupby('year')['individualCount'].sum()\n",
    "    cnt_by_year = pd.merge(genus_counts, indiv_counts, on='year')\n",
    "\n",
    "    cnt_by_year.to_csv(f.split(\"-\")[0] + \"-boiDiv.csv\")\n",
    "    print(f.split(\"-\")[0].split(\"/\")[-1], \"saved.\")"
   ],
   "metadata": {
    "collapsed": false
   }
  }
 ],
 "metadata": {
  "kernelspec": {
   "display_name": "Python 3",
   "language": "python",
   "name": "python3"
  },
  "language_info": {
   "codemirror_mode": {
    "name": "ipython",
    "version": 2
   },
   "file_extension": ".py",
   "mimetype": "text/x-python",
   "name": "python",
   "nbconvert_exporter": "python",
   "pygments_lexer": "ipython2",
   "version": "2.7.6"
  }
 },
 "nbformat": 4,
 "nbformat_minor": 0
}
