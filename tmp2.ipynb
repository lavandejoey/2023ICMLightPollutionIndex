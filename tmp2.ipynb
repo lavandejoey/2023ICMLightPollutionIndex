{
 "cells": [
  {
   "cell_type": "code",
   "execution_count": 73,
   "outputs": [],
   "source": [
    "import os\n",
    "\n",
    "import pandas as pd\n",
    "\n",
    "# List of county\n",
    "county = [\"Brewster\", \"Fredericksburg\", \"Round\", \"Houston\", \"Everglades\", \"Arcadia\", \"Weston\", \"Miami\"]\n",
    "base_path = \"../data/AAAAA/yearly/\""
   ],
   "metadata": {
    "collapsed": false
   }
  },
  {
   "cell_type": "code",
   "execution_count": 74,
   "outputs": [
    {
     "name": "stdout",
     "output_type": "stream",
     "text": [
      "Processing the  Arcadia-yearly-avg-commute.csv\n",
      "Processing the  Arcadia-yearly-bio.csv\n",
      "Processing the  Arcadia-yearly-employ-industrial.csv\n",
      "Processing the  Arcadia-yearly-population.csv\n",
      "Processing the  Arcadia-yearly-property-value.csv\n",
      "Processing the  Arcadia-yearly-rela-industrial.csv\n",
      "Processing the  Brewster County-yearly-avg-commute.csv\n",
      "Processing the  Brewster County-yearly-employ-industrial.csv\n",
      "Processing the  Brewster County-yearly-population.csv\n",
      "Processing the  Brewster County-yearly-property-value.csv\n",
      "Processing the  Brewster County-yearly-rela-industrial.csv\n",
      "Processing the  Brewster-yearly-bio.csv\n",
      "Processing the  Everglades-yearly-avg-commute.csv\n",
      "Processing the  Everglades-yearly-bio.csv\n",
      "Processing the  Everglades-yearly-employ-industrial.csv\n",
      "Processing the  Everglades-yearly-population.csv\n",
      "Processing the  Everglades-yearly-property-value.csv\n",
      "Processing the  Everglades-yearly-rela-industrial.csv\n",
      "Processing the  Fredericksburg-yearly-avg-commute.csv\n",
      "Processing the  Fredericksburg-yearly-bio.csv\n",
      "Processing the  Fredericksburg-yearly-employ-industrial.csv\n",
      "Processing the  Fredericksburg-yearly-population.csv\n",
      "Processing the  Fredericksburg-yearly-property-value.csv\n",
      "Processing the  Fredericksburg-yearly-rela-industrial.csv\n",
      "Processing the  Houston-yearly-avg-commute.csv\n",
      "Processing the  Houston-yearly-bio.csv\n",
      "Processing the  Houston-yearly-employ-industrial.csv\n",
      "Processing the  Houston-yearly-population.csv\n",
      "Processing the  Houston-yearly-property-value.csv\n",
      "Processing the  Houston-yearly-rela-industrial.csv\n",
      "Processing the  Miami-yearly-avg-commute.csv\n",
      "Processing the  Miami-yearly-bio.csv\n",
      "Processing the  Miami-yearly-employ-industrial.csv\n",
      "Processing the  Miami-yearly-population.csv\n",
      "Processing the  Miami-yearly-property-value.csv\n",
      "Processing the  Miami-yearly-rela-industrial.csv\n",
      "Processing the  Round Rock-yearly-avg-commute.csv\n",
      "Processing the  Round Rock-yearly-bio.csv\n",
      "Processing the  Round Rock-yearly-employ-industrial.csv\n",
      "Processing the  Round Rock-yearly-population.csv\n",
      "Processing the  Round Rock-yearly-property-value.csv\n",
      "Processing the  Round Rock-yearly-rela-industrial.csv\n",
      "Processing the  Weston-yearly-avg-commute.csv\n",
      "Processing the  Weston-yearly-bio.csv\n",
      "Processing the  Weston-yearly-employ-industrial.csv\n",
      "Processing the  Weston-yearly-population.csv\n",
      "Processing the  Weston-yearly-property-value.csv\n",
      "Processing the  Weston-yearly-rela-industrial.csv\n"
     ]
    },
    {
     "name": "stderr",
     "output_type": "stream",
     "text": [
      "C:\\Users\\Lavande\\AppData\\Local\\Temp\\ipykernel_34988\\347370557.py:20: FutureWarning: Passing 'suffixes' which cause duplicate columns {'Average Commute Time_x'} in the result is deprecated and will raise a MergeError in a future version.\n",
      "  merged_df = pd.merge(merged_df, df, on=[\"Year\", \"County\"], how=\"outer\")\n",
      "C:\\Users\\Lavande\\AppData\\Local\\Temp\\ipykernel_34988\\347370557.py:20: FutureWarning: Passing 'suffixes' which cause duplicate columns {'genus_x', 'individualCount_x'} in the result is deprecated and will raise a MergeError in a future version.\n",
      "  merged_df = pd.merge(merged_df, df, on=[\"Year\", \"County\"], how=\"outer\")\n",
      "C:\\Users\\Lavande\\AppData\\Local\\Temp\\ipykernel_34988\\347370557.py:20: FutureWarning: Passing 'suffixes' which cause duplicate columns {'Industry Employ_x'} in the result is deprecated and will raise a MergeError in a future version.\n",
      "  merged_df = pd.merge(merged_df, df, on=[\"Year\", \"County\"], how=\"outer\")\n",
      "C:\\Users\\Lavande\\AppData\\Local\\Temp\\ipykernel_34988\\347370557.py:20: FutureWarning: Passing 'suffixes' which cause duplicate columns {'Population_x'} in the result is deprecated and will raise a MergeError in a future version.\n",
      "  merged_df = pd.merge(merged_df, df, on=[\"Year\", \"County\"], how=\"outer\")\n",
      "C:\\Users\\Lavande\\AppData\\Local\\Temp\\ipykernel_34988\\347370557.py:20: FutureWarning: Passing 'suffixes' which cause duplicate columns {'Property Value_x'} in the result is deprecated and will raise a MergeError in a future version.\n",
      "  merged_df = pd.merge(merged_df, df, on=[\"Year\", \"County\"], how=\"outer\")\n",
      "C:\\Users\\Lavande\\AppData\\Local\\Temp\\ipykernel_34988\\347370557.py:20: FutureWarning: Passing 'suffixes' which cause duplicate columns {'Industry Dev_x'} in the result is deprecated and will raise a MergeError in a future version.\n",
      "  merged_df = pd.merge(merged_df, df, on=[\"Year\", \"County\"], how=\"outer\")\n",
      "C:\\Users\\Lavande\\AppData\\Local\\Temp\\ipykernel_34988\\347370557.py:20: FutureWarning: Passing 'suffixes' which cause duplicate columns {'Average Commute Time_x'} in the result is deprecated and will raise a MergeError in a future version.\n",
      "  merged_df = pd.merge(merged_df, df, on=[\"Year\", \"County\"], how=\"outer\")\n",
      "C:\\Users\\Lavande\\AppData\\Local\\Temp\\ipykernel_34988\\347370557.py:20: FutureWarning: Passing 'suffixes' which cause duplicate columns {'genus_x', 'individualCount_x'} in the result is deprecated and will raise a MergeError in a future version.\n",
      "  merged_df = pd.merge(merged_df, df, on=[\"Year\", \"County\"], how=\"outer\")\n",
      "C:\\Users\\Lavande\\AppData\\Local\\Temp\\ipykernel_34988\\347370557.py:20: FutureWarning: Passing 'suffixes' which cause duplicate columns {'Industry Employ_x'} in the result is deprecated and will raise a MergeError in a future version.\n",
      "  merged_df = pd.merge(merged_df, df, on=[\"Year\", \"County\"], how=\"outer\")\n",
      "C:\\Users\\Lavande\\AppData\\Local\\Temp\\ipykernel_34988\\347370557.py:20: FutureWarning: Passing 'suffixes' which cause duplicate columns {'Population_x'} in the result is deprecated and will raise a MergeError in a future version.\n",
      "  merged_df = pd.merge(merged_df, df, on=[\"Year\", \"County\"], how=\"outer\")\n",
      "C:\\Users\\Lavande\\AppData\\Local\\Temp\\ipykernel_34988\\347370557.py:20: FutureWarning: Passing 'suffixes' which cause duplicate columns {'Property Value_x'} in the result is deprecated and will raise a MergeError in a future version.\n",
      "  merged_df = pd.merge(merged_df, df, on=[\"Year\", \"County\"], how=\"outer\")\n",
      "C:\\Users\\Lavande\\AppData\\Local\\Temp\\ipykernel_34988\\347370557.py:20: FutureWarning: Passing 'suffixes' which cause duplicate columns {'Industry Dev_x'} in the result is deprecated and will raise a MergeError in a future version.\n",
      "  merged_df = pd.merge(merged_df, df, on=[\"Year\", \"County\"], how=\"outer\")\n",
      "C:\\Users\\Lavande\\AppData\\Local\\Temp\\ipykernel_34988\\347370557.py:20: FutureWarning: Passing 'suffixes' which cause duplicate columns {'Average Commute Time_x'} in the result is deprecated and will raise a MergeError in a future version.\n",
      "  merged_df = pd.merge(merged_df, df, on=[\"Year\", \"County\"], how=\"outer\")\n",
      "C:\\Users\\Lavande\\AppData\\Local\\Temp\\ipykernel_34988\\347370557.py:20: FutureWarning: Passing 'suffixes' which cause duplicate columns {'genus_x', 'individualCount_x'} in the result is deprecated and will raise a MergeError in a future version.\n",
      "  merged_df = pd.merge(merged_df, df, on=[\"Year\", \"County\"], how=\"outer\")\n",
      "C:\\Users\\Lavande\\AppData\\Local\\Temp\\ipykernel_34988\\347370557.py:20: FutureWarning: Passing 'suffixes' which cause duplicate columns {'Industry Employ_x'} in the result is deprecated and will raise a MergeError in a future version.\n",
      "  merged_df = pd.merge(merged_df, df, on=[\"Year\", \"County\"], how=\"outer\")\n",
      "C:\\Users\\Lavande\\AppData\\Local\\Temp\\ipykernel_34988\\347370557.py:20: FutureWarning: Passing 'suffixes' which cause duplicate columns {'Population_x'} in the result is deprecated and will raise a MergeError in a future version.\n",
      "  merged_df = pd.merge(merged_df, df, on=[\"Year\", \"County\"], how=\"outer\")\n",
      "C:\\Users\\Lavande\\AppData\\Local\\Temp\\ipykernel_34988\\347370557.py:20: FutureWarning: Passing 'suffixes' which cause duplicate columns {'Property Value_x'} in the result is deprecated and will raise a MergeError in a future version.\n",
      "  merged_df = pd.merge(merged_df, df, on=[\"Year\", \"County\"], how=\"outer\")\n",
      "C:\\Users\\Lavande\\AppData\\Local\\Temp\\ipykernel_34988\\347370557.py:20: FutureWarning: Passing 'suffixes' which cause duplicate columns {'Industry Dev_x'} in the result is deprecated and will raise a MergeError in a future version.\n",
      "  merged_df = pd.merge(merged_df, df, on=[\"Year\", \"County\"], how=\"outer\")\n"
     ]
    }
   ],
   "source": [
    "# List of files to read\n",
    "files = [f\"{county}-yearly-avg-commute.csv\", f\"{county}-yearly-bio.csv\", f\"{county}-yearly-employ-industrial.csv\",\n",
    "         f\"{county}-yearly-population.csv\", f\"{county}-yearly-property-value.csv\",\n",
    "         f\"{county}-yearly-rela-industrial.csv\"]\n",
    "files = [base_path + f for f in os.listdir(base_path)]\n",
    "\n",
    "# Create an empty dataframe to store the merged data\n",
    "merged_df = pd.DataFrame()\n",
    "\n",
    "# Loop through each file and merge it with the existing dataframe\n",
    "for file in files:\n",
    "    print(\"Processing the \", file.split(\"/\")[-1])\n",
    "    df = pd.read_csv(file)\n",
    "    try:\n",
    "        df = df.drop(columns=[\"Unnamed: 0\"])\n",
    "    except:pass\n",
    "    if merged_df.empty:\n",
    "        merged_df = df\n",
    "    else:\n",
    "        merged_df = pd.merge(merged_df, df, on=[\"Year\", \"County\"], how=\"outer\")\n",
    "\n",
    "# Print the merged dataframe\n",
    "merged_df.to_csv(\"../data/AAAAA/merged.csv\")\n"
   ],
   "metadata": {
    "collapsed": false
   }
  },
  {
   "cell_type": "code",
   "execution_count": 74,
   "outputs": [],
   "source": [],
   "metadata": {
    "collapsed": false
   }
  },
  {
   "cell_type": "code",
   "execution_count": 74,
   "outputs": [],
   "source": [],
   "metadata": {
    "collapsed": false
   }
  }
 ],
 "metadata": {
  "kernelspec": {
   "display_name": "Python 3",
   "language": "python",
   "name": "python3"
  },
  "language_info": {
   "codemirror_mode": {
    "name": "ipython",
    "version": 2
   },
   "file_extension": ".py",
   "mimetype": "text/x-python",
   "name": "python",
   "nbconvert_exporter": "python",
   "pygments_lexer": "ipython2",
   "version": "2.7.6"
  }
 },
 "nbformat": 4,
 "nbformat_minor": 0
}
