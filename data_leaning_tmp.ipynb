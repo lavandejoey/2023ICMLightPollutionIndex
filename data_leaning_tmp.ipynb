{
 "cells": [
  {
   "cell_type": "code",
   "execution_count": null,
   "outputs": [],
   "source": [
    "import glob\n",
    "import os\n",
    "\n",
    "import pandas as pd\n",
    "\n",
    "base_path = \"../data/AAAAA/cplt_data/\"\n",
    "cities = [\"Brewster\", \"Fredericksburg\", \"Round\", \"Houston\", \"Everglades\", \"Arcadia\", \"Weston\", \"Miami\"]\n"
   ],
   "metadata": {
    "collapsed": false
   }
  },
  {
   "cell_type": "code",
   "execution_count": null,
   "outputs": [],
   "source": [
    "for city in cities:\n",
    "    files = glob.glob(os.path.join(base_path, f\"{city}*\"))\n",
    "    files = [f.replace(\"\\\\\", \"/\") for f in files]\n",
    "\n"
   ],
   "metadata": {
    "collapsed": false
   }
  }
 ],
 "metadata": {
  "kernelspec": {
   "display_name": "Python 3",
   "language": "python",
   "name": "python3"
  },
  "language_info": {
   "codemirror_mode": {
    "name": "ipython",
    "version": 2
   },
   "file_extension": ".py",
   "mimetype": "text/x-python",
   "name": "python",
   "nbconvert_exporter": "python",
   "pygments_lexer": "ipython2",
   "version": "2.7.6"
  }
 },
 "nbformat": 4,
 "nbformat_minor": 0
}
